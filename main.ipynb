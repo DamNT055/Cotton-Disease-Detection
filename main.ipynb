{
 "cells": [
  {
   "cell_type": "code",
   "execution_count": null,
   "metadata": {},
   "outputs": [],
   "source": [
    "from vision_transformers.models import vit\n",
    "\n",
    "def build_model(num_classes=10):\n",
    "    model = vit.vit_b_p16_224(\n",
    "        image_size=224,\n",
    "        num_classes=num_classes,\n",
    "        pretrained=True\n",
    "    )\n",
    "    return model\n",
    "\n",
    "# if __name__ == '__main__':\n",
    "model = build_model()\n",
    "print(model)\n",
    "total_params = sum(p.numel() for p in model.parameters())\n",
    "print(f'{total_params:,} total parameters.')\n",
    "total_trainable_params = sum(p.numel() for p in model.parameters() if p.requires_grad)\n",
    "print(f'{total_trainable_params:,} total trainable parameters.')\n"
   ]
  },
  {
   "cell_type": "code",
   "execution_count": 5,
   "metadata": {},
   "outputs": [],
   "source": [
    "import os\n",
    "from torchvision import datasets, transforms\n",
    "from torch.utils.data import DataLoader\n",
    "\n",
    "TRAIN_DIR = os.path.join('./data/Cotton-Disease-Training/trainning/Cotton leaves - Training/800 Images')\n",
    "VALID_DIR = os.path.join('./data/Cotton-Disease-Training/validation/Cotton leaves - Validation/100 Images')\n",
    "IMAGE_SIZE = 224\n",
    "NUM_WORKERS = 4"
   ]
  },
  {
   "cell_type": "code",
   "execution_count": 6,
   "metadata": {},
   "outputs": [],
   "source": [
    "def get_train_transform(image_size):\n",
    "    train_transform = transforms.Compose([\n",
    "        transforms.Resize((image_size, image_size)),\n",
    "        transforms.RandomHorizontalFlip(p=0.5),\n",
    "        transforms.RandomRotation(35),\n",
    "        transforms.RandomAdjustSharpness(sharpness_factor=2, p=0.5),\n",
    "        transforms.ToTensor(),\n",
    "        transforms.Normalize(mean=[0.485, 0.456, 0.406],\n",
    "                                std=[0.229, 0.224, 0.225]),\n",
    "    ])\n",
    "    return train_transform\n",
    "\n",
    "def get_valid_transform(image_size):\n",
    "    valid_transform = transforms.Compose([\n",
    "        transforms.Resize((image_size, image_size)),\n",
    "        transforms.ToTensor(),\n",
    "        transforms.Normalize(mean=[0.485, 0.456, 0.406],\n",
    "                                std=[0.229, 0.224, 0.225]),\n",
    "    ])\n",
    "    return valid_transform"
   ]
  },
  {
   "cell_type": "code",
   "execution_count": null,
   "metadata": {},
   "outputs": [],
   "source": [
    "def get_datasets():\n",
    "    train_transform = get_train_transform(IMAGE_SIZE)\n",
    "    valid_transform = get_valid_transform(IMAGE_SIZE)\n",
    "\n",
    "    train_dataset = datasets.ImageFolder(\n",
    "        root=TRAIN_DIR,\n",
    "        transform=train_transform\n",
    "    )\n",
    "\n",
    "    valid_dataset = datasets.ImageFolder(\n",
    "        root=VALID_DIR,\n",
    "        transform=valid_transform\n",
    "    )\n",
    "\n",
    "    return train_dataset, valid_dataset\n",
    "\n",
    "def get_data_loader(dataset_train, dataset_valid, batch_size):\n",
    "    train_loader = DataLoader(\n",
    "        dataset_train,\n",
    "        batch_size=batch_size,\n",
    "        shuffle=True,\n",
    "        num_workers=NUM_WORKERS\n",
    "    )\n",
    "\n",
    "    valid_loader = DataLoader(\n",
    "        dataset_valid,\n",
    "        batch_size=batch_size,\n",
    "        shuffle=False,\n",
    "        num_workers=NUM_WORKERS\n",
    "    )\n",
    "\n",
    "    return train_loader, valid_loader"
   ]
  }
 ],
 "metadata": {
  "kernelspec": {
   "display_name": "base",
   "language": "python",
   "name": "python3"
  },
  "language_info": {
   "codemirror_mode": {
    "name": "ipython",
    "version": 3
   },
   "file_extension": ".py",
   "mimetype": "text/x-python",
   "name": "python",
   "nbconvert_exporter": "python",
   "pygments_lexer": "ipython3",
   "version": "3.11.9"
  }
 },
 "nbformat": 4,
 "nbformat_minor": 2
}
